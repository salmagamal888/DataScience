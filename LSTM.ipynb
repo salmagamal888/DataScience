{
  "nbformat": 4,
  "nbformat_minor": 0,
  "metadata": {
    "colab": {
      "provenance": [],
      "authorship_tag": "ABX9TyNKQM8IMt2/j93fHIuk7uBd",
      "include_colab_link": true
    },
    "kernelspec": {
      "name": "python3",
      "display_name": "Python 3"
    },
    "language_info": {
      "name": "python"
    }
  },
  "cells": [
    {
      "cell_type": "markdown",
      "metadata": {
        "id": "view-in-github",
        "colab_type": "text"
      },
      "source": [
        "<a href=\"https://colab.research.google.com/github/salmagamal888/DataScience/blob/main/LSTM.ipynb\" target=\"_parent\"><img src=\"https://colab.research.google.com/assets/colab-badge.svg\" alt=\"Open In Colab\"/></a>"
      ]
    },
    {
      "cell_type": "code",
      "execution_count": null,
      "metadata": {
        "id": "WPVKtcCpRjo2"
      },
      "outputs": [],
      "source": [
        "import tensorflow as tf\n",
        "from tensorflow.keras.models import Sequential\n",
        "from tensorflow.keras.layers import LSTM, Dense, Dropout"
      ]
    },
    {
      "cell_type": "code",
      "source": [
        "minsit=tf.keras.datasets.mnist\n",
        "(X_train, y_train), (X_test ,y_test)=minsit.load_data()"
      ],
      "metadata": {
        "id": "LEb99gU9bb2x"
      },
      "execution_count": null,
      "outputs": []
    },
    {
      "cell_type": "code",
      "source": [
        "# 'flatten'\n",
        "'''X_train=X_train.reshape(60000,784)\n",
        "X_test=X_test.reshape(10000,784)'''\n",
        "# normalize\n",
        "X_train=X_train.astype('float32')/255\n",
        "X_test=X_test.astype('float32')/255\n",
        "\n",
        "#cateorical y\n",
        "y_train=tf.keras.utils.to_categorical(y_train,10)\n",
        "y_test=tf.keras.utils.to_categorical(y_test,10)"
      ],
      "metadata": {
        "id": "GxP76FBToZy1"
      },
      "execution_count": null,
      "outputs": []
    },
    {
      "cell_type": "code",
      "source": [
        "y_train.shape"
      ],
      "metadata": {
        "colab": {
          "base_uri": "https://localhost:8080/"
        },
        "id": "l2YM-pVorSRj",
        "outputId": "a9472756-cfbf-4f4a-deae-fbc6a57edf20"
      },
      "execution_count": null,
      "outputs": [
        {
          "output_type": "execute_result",
          "data": {
            "text/plain": [
              "(60000, 10)"
            ]
          },
          "metadata": {},
          "execution_count": 142
        }
      ]
    },
    {
      "cell_type": "code",
      "source": [
        "#build the model\n",
        "model=Sequential()\n",
        "model.add(LSTM(128 , activation='relu', return_sequences=True)) #return seq ==> to see how the output looks like. This also \n",
        "model.add(Dropout(0.2))\n",
        "model.add(LSTM(128, activation='relu'))\n",
        "model.add(Dropout(0.2))\n",
        "model.add(Dense(32, activation='relu'))\n",
        "model.add(Dropout(0.2))\n",
        "model.add(Dense(10, activation='softmax'))"
      ],
      "metadata": {
        "id": "RpaC_yqAb5-O"
      },
      "execution_count": null,
      "outputs": []
    },
    {
      "cell_type": "code",
      "source": [
        "#compile the model\n",
        "Adam=tf.keras.optimizers.Adam(lr=1e-3, decay=1e-5) #decay decreases the out with time\n",
        "model.compile(loss='categorical_crossentropy', optimizer=Adam, metrics=['accuracy', 'AUC'])"
      ],
      "metadata": {
        "id": "JKivDKhYdqpy",
        "colab": {
          "base_uri": "https://localhost:8080/"
        },
        "outputId": "23593aa8-5b83-449b-aed6-9676ed89dcb9"
      },
      "execution_count": null,
      "outputs": [
        {
          "output_type": "stream",
          "name": "stderr",
          "text": [
            "/usr/local/lib/python3.8/dist-packages/keras/optimizers/optimizer_v2/adam.py:110: UserWarning: The `lr` argument is deprecated, use `learning_rate` instead.\n",
            "  super(Adam, self).__init__(name, **kwargs)\n"
          ]
        }
      ]
    },
    {
      "cell_type": "code",
      "source": [
        "model.fit(X_train, y_train , epochs=5, validation_data=(X_test,y_test))\n"
      ],
      "metadata": {
        "colab": {
          "base_uri": "https://localhost:8080/"
        },
        "id": "T0ZW7pL3hYwk",
        "outputId": "3c643cf7-2282-4389-a164-e748fea1bd6f"
      },
      "execution_count": null,
      "outputs": [
        {
          "output_type": "stream",
          "name": "stdout",
          "text": [
            "Epoch 1/5\n",
            "1875/1875 [==============================] - 178s 93ms/step - loss: 0.7136 - accuracy: 0.7646 - auc: 0.9713 - val_loss: 0.1839 - val_accuracy: 0.9480 - val_auc: 0.9952\n",
            "Epoch 2/5\n",
            "1875/1875 [==============================] - 168s 90ms/step - loss: 0.1837 - accuracy: 0.9498 - auc: 0.9960 - val_loss: 0.0949 - val_accuracy: 0.9729 - val_auc: 0.9982\n",
            "Epoch 3/5\n",
            "1875/1875 [==============================] - 175s 93ms/step - loss: 0.1227 - accuracy: 0.9675 - auc: 0.9974 - val_loss: 0.0842 - val_accuracy: 0.9770 - val_auc: 0.9982\n",
            "Epoch 4/5\n",
            "1875/1875 [==============================] - 176s 94ms/step - loss: 0.0935 - accuracy: 0.9755 - auc: 0.9981 - val_loss: 0.0664 - val_accuracy: 0.9835 - val_auc: 0.9982\n",
            "Epoch 5/5\n",
            "1875/1875 [==============================] - 179s 95ms/step - loss: 0.0806 - accuracy: 0.9791 - auc: 0.9984 - val_loss: 0.0674 - val_accuracy: 0.9812 - val_auc: 0.9982\n"
          ]
        },
        {
          "output_type": "execute_result",
          "data": {
            "text/plain": [
              "<keras.callbacks.History at 0x7f213bddceb0>"
            ]
          },
          "metadata": {},
          "execution_count": 146
        }
      ]
    }
  ]
}